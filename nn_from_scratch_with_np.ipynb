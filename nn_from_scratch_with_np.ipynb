{
 "cells": [
  {
   "cell_type": "markdown",
   "metadata": {
    "colab_type": "text",
    "id": "7QeHDInzG6ae"
   },
   "source": [
    "# Neuronal Network from Scratch with Numpy\n",
    "In this notebook we develop a neural network from scratch using only Numpy. We develop the code based on the excellent [tutorial](https://victorzhou.com/blog/intro-to-neural-networks/) by Victor Zhou.\n",
    "\n",
    "## The Activation Function\n",
    "As activation function we use the sigmoid function $\\sigma(x) = \\frac{1}{1+e^{-x}}$. The derivative of the sigmoid function is $\\sigma'(x) = \\sigma(x)\\cdot (1-\\sigma(x))$.\n",
    "\n",
    "## The Data\n",
    "We have given persons with weight, height and gender. The neuronal network should now learn to predict the gender for a given weight and height.\n",
    "\n",
    "## The Network Architecture\n",
    "<img src=\"img/nn_1.png\" style=\"height:250px\">\n",
    "\n",
    "## Loss Function\n",
    "As loss-function we use the Mean Squared Error $L=\\frac{1}{n}\\sum_{i=1}^n (y-\\hat{y})^2$, with $\\hat{y}=o_1$ beeing the predicted labels (genders) and $y$ beeing the given labels of the training set.\n",
    "\n",
    "## Feed Forward\n",
    "$$\n",
    "  \\begin{aligned}\n",
    "    h_1 &= \\sigma(w_1 x_1 + w_2 x_2 + b_1)\\\\\n",
    "    h_2 &= \\sigma(w_3 x_1 + w_4 x_2 + b_2)\\\\\n",
    "    o_1 &= \\sigma(w_5 h_1 + w_6 h_2 + b_3)\n",
    "  \\end{aligned}\n",
    "$$\n",
    "\n",
    "## Gradient Decent\n",
    "Our goal is to understand how the costfunction $L(w_1,w_2,w_3,w_4,w_5,w_6,b_1,b_2,b_3)$ changes with respect to all the weights and biasis. That way we know which adjustments to those terms lead to the most efficient decrease of it.\n",
    "\n",
    "So let's start with $w_6$ and $w_5$. How do we have to change $w_6$ respective $w_5$ to decrease the cost function $L$? This question can be answered by the partial derivative $\\frac{\\partial L}{\\partial w_6}$ respective $\\frac{\\partial L}{\\partial w_5}$.\n",
    "\n",
    "$\n",
    "  \\begin{aligned}\n",
    "    \\frac{\\partial L}{\\partial w_6} &= \\color{red}{\\frac{\\partial L}{\\partial \\hat{y}}} \\color{green}{\\frac{\\partial \\hat{y}}{\\partial w_6}}\\\\\n",
    "    \\color{red} {\\frac{\\partial L}{\\partial \\hat{y}}} &= \\frac{\\partial (y-\\hat{y})^2}{\\partial \\hat{y}} = -2(y-\\hat{y})\\\\\n",
    "    \\color{green}{\\frac{\\partial \\hat{y}}{w_6}} &= \\frac{\\partial \\sigma(w_5 h_1 + w_6 h_2 + b_3)}{\\partial w_6} = h_2 \\sigma'(w_5 h_1 + w_6 h_2 + b_3)\\\\\n",
    "    \\rightarrow \\frac{\\partial L}{\\partial w_6} &= \\color{red}{-2(y-\\hat{y})} \\color{green}{h_2 \\sigma'(w_5 h_1 + w_6 h_2 + b_3)}\n",
    "  \\end{aligned}\n",
    "$\n",
    "\n",
    "Similarly $\\frac{\\partial L}{\\partial w_5}$ can be derived.\n",
    "\n",
    "$\n",
    "  \\frac{\\partial L}{\\partial w_5} = -2(y - \\hat{y}) h_1 \\sigma'(w_5 h_1 + w_6 h_2 + b_3)\n",
    "$<br><br>\n",
    "\n",
    "In the next step we must now derive $\\frac{\\partial L}{\\partial w_4}, \\frac{\\partial L}{\\partial w_3},\\frac{\\partial L}{\\partial w_2} $ and $\\frac{\\partial L}{\\partial w_1}$.\n",
    "\n",
    "$\n",
    "  \\begin{aligned}\n",
    "    \\frac{\\partial L}{\\partial w_4} &= \\color{red}{\\frac{\\partial L}{\\partial \\hat{y}}} \\color{green}{\\frac{\\partial \\hat{y}}{\\partial w_4}}\\\\\n",
    "    \\color{red}{\\frac{\\partial L}{\\partial \\hat{y}}} &= \\frac{\\partial (y-\\hat{y})^2}{\\partial \\hat{y}} = -2(y-\\hat{y})\\\\\n",
    "    \\color{green}{\\frac{\\partial \\hat{y}}{\\partial w_4}} &\\overset{*}{=} \\color{orange}{\\frac{\\partial \\hat{y}}{h_2}} \\color{blue}{\\frac{\\partial h_2}{\\partial w_4}}\\\\\n",
    "    \\color{orange}{\\frac{\\partial \\hat{y}}{\\partial h_2}} &= \\frac{\\partial \\sigma(w_5 h_1 + w_6 h_2 + b_3)}{\\partial h_2} = w_6 \\sigma'(w_5 h_1 + w_6 h_2 + b_3)\\\\\n",
    "    \\color{blue}{\\frac{\\partial h_2}{\\partial w_4}} &= x_2 \\sigma'(w_3 x_1 + w_4 x_2 + b_2)\\\\\n",
    "    \\rightarrow \\frac{\\partial L}{\\partial w_4} &= \\color{red}{-2(y-\\hat{y})}\\color{orange}{w_6 \\sigma'(w_5 h_1 + w_6 h_2 + b_3)}\\color{blue}{x_2 \\sigma'(w_3 x_1 + w_4 x_2 + b_2)}\n",
    "  \\end{aligned}\n",
    "$\n",
    "\n",
    "$*)$ Because $w_4$ only influences $h_2$ and not $h_1$.\n",
    "\n",
    "Similarly $\\frac{\\partial L}{\\partial w_3},\\frac{\\partial L}{\\partial w_2} $ and $\\frac{\\partial L}{\\partial w_1}$ can be derived.\n",
    "\n",
    "$\n",
    "  \\begin{aligned}\n",
    "    \\frac{\\partial L}{\\partial w_3} &= -2(y-\\hat{y})w_6\\sigma'(w_5 h_1 + w_6 h_2 + b_3)x_1\\sigma'(w_3 x_1 + w_4 x_2 + b_2)\\\\\n",
    "    \\frac{\\partial L}{\\partial w_2} &= -2(y-\\hat{y})w_5\\sigma'(w_5 h_1 + w_6 h_2 + b_3)x_2\\sigma'(w_1 x_1 + w_2 x_2 + b_1)\\\\\n",
    "    \\frac{\\partial L}{\\partial w_1} &= -2(y-\\hat{y})w_5\\sigma'(w_5 h_1 + w_6 h_2 + b_3)x_1\\sigma'(w_1 x_1 + w_2 x_2 + b_1)\n",
    "  \\end{aligned}\n",
    "$<br><br>\n",
    "\n",
    "Finally we have to derive $\\frac{\\partial L}{\\partial b_3}$, $\\frac{\\partial L}{\\partial b_2}$ and $\\frac{\\partial L}{\\partial b_1}$. $\\frac{\\partial L}{\\partial b_3}$ can be derived similarly to $\\frac{\\partial L}{\\partial w_6}$.\n",
    "$\n",
    "  \\frac{\\partial L}{\\partial b_3} = -2(y-\\hat{y})\\sigma'(w_5 h_1 + w_6 h_2 + b_3)\n",
    "$\n",
    "\n",
    "And $\\frac{\\partial L}{\\partial b_2}$ can be derived similarly to $\\frac{\\partial L}{\\partial w_4}$ while $\\frac{\\partial L}{\\partial b_1}$ can be derived similarly to $\\frac{\\partial L}{\\partial w_2}$.\n",
    "$\n",
    "  \\begin{aligned}\n",
    "    \\frac{\\partial L}{\\partial b_2} &= -2(y-\\hat{y})w_6\\sigma'(w_5 h_1 + w_6 h_2 + b_3)\\sigma'(w_3 x_1 + w_4 x_2 + b_2)\\\\\n",
    "    \\frac{\\partial L}{\\partial b_1} &= -2(y-\\hat{y})w_5\\sigma'(w_5 h1 + w_6 h_2 + b_3)\\sigma'(w_1 x_1 + w_2 x_2 + b_1)\n",
    "  \\end{aligned}\n",
    "$\n",
    "\n",
    "## So, how do we train the Network? Backpropagation!\n",
    "We now have everything together to train our neural network. We use an algorithm called stochastic gradient descent (SGD) to calculate how to change our weights and biases to minimize loss. The SGD proceeds as follows.\n",
    "\n",
    "1. Chose randomly one sample from the trainingset.\n",
    "2. Update all weights and biases using the following equation. $\\eta$ is the learning rate which controls the training speed.\n",
    "\n",
    "$$\n",
    "  \\begin{aligned}\n",
    "    w_i &= w_i - \\eta \\frac{\\partial L}{w_i} \\text{ for all } i\\in[1,6]\\\\\n",
    "    b_j &= b_j - \\eta \\frac{\\partial L}{b_j} \\text{ for all } j\\in [1,3]\n",
    "  \\end{aligned}\n",
    "$$\n",
    "\n",
    "3. Go to step 1.\n",
    "\n"
   ]
  },
  {
   "cell_type": "markdown",
   "metadata": {
    "colab_type": "text",
    "id": "H4ue9iKzdJFr"
   },
   "source": [
    "## The Code"
   ]
  },
  {
   "cell_type": "markdown",
   "metadata": {
    "colab_type": "text",
    "id": "pSs0TlBvdNEl"
   },
   "source": [
    "### Imports"
   ]
  },
  {
   "cell_type": "code",
   "execution_count": 1,
   "metadata": {
    "colab": {},
    "colab_type": "code",
    "id": "CkKoCZip6CL1"
   },
   "outputs": [],
   "source": [
    "import numpy as np\n",
    "import pandas as pd\n",
    "import matplotlib.pyplot as plt"
   ]
  },
  {
   "cell_type": "markdown",
   "metadata": {
    "colab_type": "text",
    "id": "KvM9m17odPps"
   },
   "source": [
    "### The Datasets & Preprocessing"
   ]
  },
  {
   "cell_type": "code",
   "execution_count": 2,
   "metadata": {
    "colab": {
     "base_uri": "https://localhost:8080/",
     "height": 204
    },
    "colab_type": "code",
    "executionInfo": {
     "elapsed": 1226,
     "status": "ok",
     "timestamp": 1578172309125,
     "user": {
      "displayName": "jonas sander",
      "photoUrl": "",
      "userId": "00193758946461779324"
     },
     "user_tz": -60
    },
    "id": "CWRNwcBmdDSA",
    "outputId": "dff4c62b-0d29-4fd4-fd0c-e96ddd04f270"
   },
   "outputs": [
    {
     "name": "stdout",
     "output_type": "stream",
     "text": [
      "training_data:\n",
      "      name  weight  height gender\n",
      "0    Alice     133      65      F\n",
      "1      Bob     160      72      M\n",
      "2  Charlie     152      70      M\n",
      "3    Diana     120      60      F\n",
      "\n",
      "prediction_data:\n",
      "    name  weight  height\n",
      "0  Emily     128      63\n",
      "1  Frank     155      68\n"
     ]
    }
   ],
   "source": [
    "training_data = pd.DataFrame({'name':   ['Alice', 'Bob', 'Charlie', 'Diana'],\n",
    "                              'weight': [133, 160, 152, 120],\n",
    "                              'height': [65, 72, 70, 60],\n",
    "                              'gender': ['F', 'M', 'M', 'F']})\n",
    "print('training_data:')\n",
    "print(training_data)\n",
    "\n",
    "# replace 'F' with 1 and 'M' with 0\n",
    "training_data['gender'].replace(to_replace=['F','M'], value=[1,0], inplace=True)\n",
    "\n",
    "# normalize weight and height\n",
    "for i in ['weight', 'height']:\n",
    "  training_data[i] = (training_data[i] - \n",
    "                             training_data[i].mean())\\\n",
    "                           / training_data[i].std()\n",
    "\n",
    "data = training_data[['weight', 'height']].to_numpy()\n",
    "\n",
    "all_y_trues = training_data['gender'].to_numpy()\n",
    "\n",
    "prediction_data = pd.DataFrame({'name':   ['Emily', 'Frank'],\n",
    "                                'weight': [128, 155],\n",
    "                                'height': [63, 68]})\n",
    "print('\\nprediction_data:')\n",
    "print(prediction_data)\n",
    "\n",
    "# normalize weight and height\n",
    "for i in ['weight', 'height']:\n",
    "  prediction_data[i] = (prediction_data[i] - \n",
    "                             prediction_data[i].mean())\\\n",
    "                           / prediction_data[i].std()\n",
    "\n",
    "pred_data = prediction_data.to_numpy()"
   ]
  },
  {
   "cell_type": "markdown",
   "metadata": {
    "colab_type": "text",
    "id": "NUObj772lW8Q"
   },
   "source": [
    "### Code for the Neuronal Network"
   ]
  },
  {
   "cell_type": "code",
   "execution_count": 3,
   "metadata": {
    "colab": {
     "base_uri": "https://localhost:8080/",
     "height": 1000
    },
    "colab_type": "code",
    "executionInfo": {
     "elapsed": 5230,
     "status": "ok",
     "timestamp": 1578172338584,
     "user": {
      "displayName": "jonas sander",
      "photoUrl": "",
      "userId": "00193758946461779324"
     },
     "user_tz": -60
    },
    "id": "xB8kx3j1480m",
    "outputId": "018db080-6ec7-4a6c-8961-f27f76c915a3"
   },
   "outputs": [
    {
     "name": "stdout",
     "output_type": "stream",
     "text": [
      "Epoch 0 loss: 0.381\n",
      "Epoch 20 loss: 0.260\n",
      "Epoch 40 loss: 0.163\n",
      "Epoch 60 loss: 0.119\n",
      "Epoch 80 loss: 0.089\n",
      "Epoch 100 loss: 0.067\n",
      "Epoch 120 loss: 0.052\n",
      "Epoch 140 loss: 0.041\n",
      "Epoch 160 loss: 0.033\n",
      "Epoch 180 loss: 0.027\n",
      "Epoch 200 loss: 0.023\n",
      "Epoch 220 loss: 0.019\n",
      "Epoch 240 loss: 0.017\n",
      "Epoch 260 loss: 0.015\n",
      "Epoch 280 loss: 0.013\n",
      "Epoch 300 loss: 0.012\n",
      "Epoch 320 loss: 0.011\n",
      "Epoch 340 loss: 0.010\n",
      "Epoch 360 loss: 0.009\n",
      "Epoch 380 loss: 0.008\n",
      "Epoch 400 loss: 0.007\n",
      "Epoch 420 loss: 0.007\n",
      "Epoch 440 loss: 0.006\n",
      "Epoch 460 loss: 0.006\n",
      "Epoch 480 loss: 0.006\n",
      "Epoch 500 loss: 0.005\n",
      "Epoch 520 loss: 0.005\n",
      "Epoch 540 loss: 0.005\n",
      "Epoch 560 loss: 0.005\n",
      "Epoch 580 loss: 0.004\n",
      "Epoch 600 loss: 0.004\n",
      "Epoch 620 loss: 0.004\n",
      "Epoch 640 loss: 0.004\n",
      "Epoch 660 loss: 0.004\n",
      "Epoch 680 loss: 0.003\n",
      "Epoch 700 loss: 0.003\n",
      "Epoch 720 loss: 0.003\n",
      "Epoch 740 loss: 0.003\n",
      "Epoch 760 loss: 0.003\n",
      "Epoch 780 loss: 0.003\n",
      "Epoch 800 loss: 0.003\n",
      "Epoch 820 loss: 0.003\n",
      "Epoch 840 loss: 0.003\n",
      "Epoch 860 loss: 0.003\n",
      "Epoch 880 loss: 0.002\n",
      "Epoch 900 loss: 0.002\n",
      "Epoch 920 loss: 0.002\n",
      "Epoch 940 loss: 0.002\n",
      "Epoch 960 loss: 0.002\n",
      "Epoch 980 loss: 0.002\n"
     ]
    },
    {
     "data": {
      "image/png": "[encoded data removed]",
      "text/plain": [
       "<Figure size 360x360 with 1 Axes>"
      ]
     },
     "metadata": {
      "needs_background": "light"
     },
     "output_type": "display_data"
    },
    {
     "name": "stdout",
     "output_type": "stream",
     "text": [
      "Emily 0.9675447684627551\n",
      "Frank 0.04440184098894103\n"
     ]
    }
   ],
   "source": [
    "def sigmoid(x):\n",
    "  # Sigmoid activation function: f(x) = 1 / (1 + e^(-x))\n",
    "  return 1 / (1 + np.exp(-x))\n",
    "\n",
    "def deriv_sigmoid(x):\n",
    "  # Derivative of sigmoid: f'(x) = f(x) * (1 - f(x))\n",
    "  fx = sigmoid(x)\n",
    "  return fx * (1 - fx)\n",
    "\n",
    "def mse_loss(y_true, y_pred):\n",
    "  # y_true and y_pred are numpy arrays of the same length.\n",
    "  return ((y_true - y_pred) ** 2).mean()\n",
    "\n",
    "class NeuralNetwork:\n",
    "  '''\n",
    "  A neural network with:\n",
    "    - 2 inputs\n",
    "    - a hidden layer with 2 neurons (h1, h2)\n",
    "    - an output layer with 1 neuron (o1)\n",
    "  '''\n",
    "  def __init__(self):\n",
    "    # Weights\n",
    "    self.w1 = np.random.normal()\n",
    "    self.w2 = np.random.normal()\n",
    "    self.w3 = np.random.normal()\n",
    "    self.w4 = np.random.normal()\n",
    "    self.w5 = np.random.normal()\n",
    "    self.w6 = np.random.normal()\n",
    "\n",
    "    # Biases\n",
    "    self.b1 = np.random.normal()\n",
    "    self.b2 = np.random.normal()\n",
    "    self.b3 = np.random.normal()\n",
    "\n",
    "  def feedforward(self, x):\n",
    "    # x is a numpy array with 2 elements.\n",
    "    h1 = sigmoid(self.w1 * x[0] + self.w2 * x[1] + self.b1)\n",
    "    h2 = sigmoid(self.w3 * x[0] + self.w4 * x[1] + self.b2)\n",
    "    o1 = sigmoid(self.w5 * h1 + self.w6 * h2 + self.b3)\n",
    "    return o1\n",
    "\n",
    "  def train(self, data, all_y_trues):\n",
    "    '''\n",
    "    - data is a (n x 2) numpy array, n = # of samples in the dataset.\n",
    "    - all_y_trues is a numpy array with n elements.\n",
    "      Elements in all_y_trues correspond to those in data.\n",
    "    '''\n",
    "    learn_rate = 0.1\n",
    "    epochs = 1000 # number of times to loop through the entire dataset\n",
    "\n",
    "    # plot loss during training\n",
    "    fig1, ax1 = plt.subplots(figsize=(5,5))\n",
    "    ax1.set_title('Mean Square Loss Error')\n",
    "\n",
    "    for epoch in range(epochs):\n",
    "      for x, y_true in zip(data, all_y_trues):\n",
    "        # --- Do a feedforward (we'll need these values later)\n",
    "        sum_h1 = self.w1 * x[0] + self.w2 * x[1] + self.b1\n",
    "        h1 = sigmoid(sum_h1)\n",
    "\n",
    "        sum_h2 = self.w3 * x[0] + self.w4 * x[1] + self.b2\n",
    "        h2 = sigmoid(sum_h2)\n",
    "\n",
    "        sum_o1 = self.w5 * h1 + self.w6 * h2 + self.b3\n",
    "        o1 = sigmoid(sum_o1)\n",
    "        y_pred = o1\n",
    "\n",
    "        # --- Calculate partial derivatives.\n",
    "        # --- Naming: d_L_d_w1 represents \"partial L / partial w1\"\n",
    "        d_L_d_ypred = -2 * (y_true - y_pred)\n",
    "\n",
    "        # Neuron o1\n",
    "        d_ypred_d_w5 = h1 * deriv_sigmoid(sum_o1)\n",
    "        d_ypred_d_w6 = h2 * deriv_sigmoid(sum_o1)\n",
    "        d_ypred_d_b3 = deriv_sigmoid(sum_o1)\n",
    "\n",
    "        d_ypred_d_h1 = self.w5 * deriv_sigmoid(sum_o1)\n",
    "        d_ypred_d_h2 = self.w6 * deriv_sigmoid(sum_o1)\n",
    "\n",
    "        # Neuron h1\n",
    "        d_h1_d_w1 = x[0] * deriv_sigmoid(sum_h1)\n",
    "        d_h1_d_w2 = x[1] * deriv_sigmoid(sum_h1)\n",
    "        d_h1_d_b1 = deriv_sigmoid(sum_h1)\n",
    "\n",
    "        # Neuron h2\n",
    "        d_h2_d_w3 = x[0] * deriv_sigmoid(sum_h2)\n",
    "        d_h2_d_w4 = x[1] * deriv_sigmoid(sum_h2)\n",
    "        d_h2_d_b2 = deriv_sigmoid(sum_h2)\n",
    "\n",
    "        # --- Update weights and biases\n",
    "        # Neuron h1\n",
    "        self.w1 -= learn_rate * d_L_d_ypred * d_ypred_d_h1 * d_h1_d_w1\n",
    "        self.w2 -= learn_rate * d_L_d_ypred * d_ypred_d_h1 * d_h1_d_w2\n",
    "        self.b1 -= learn_rate * d_L_d_ypred * d_ypred_d_h1 * d_h1_d_b1\n",
    "\n",
    "        # Neuron h2\n",
    "        self.w3 -= learn_rate * d_L_d_ypred * d_ypred_d_h2 * d_h2_d_w3\n",
    "        self.w4 -= learn_rate * d_L_d_ypred * d_ypred_d_h2 * d_h2_d_w4\n",
    "        self.b2 -= learn_rate * d_L_d_ypred * d_ypred_d_h2 * d_h2_d_b2\n",
    "\n",
    "        # Neuron o1\n",
    "        self.w5 -= learn_rate * d_L_d_ypred * d_ypred_d_w5\n",
    "        self.w6 -= learn_rate * d_L_d_ypred * d_ypred_d_w6\n",
    "        self.b3 -= learn_rate * d_L_d_ypred * d_ypred_d_b3\n",
    "\n",
    "      # --- Calculate total loss\n",
    "      # get predictions for all samples from data\n",
    "      # apply feedforward along x axis\n",
    "      y_preds = np.apply_along_axis(self.feedforward, 1, data)\n",
    "      loss = mse_loss(all_y_trues, y_preds)\n",
    "      ax1.scatter(epoch, loss, marker='.', c='b')\n",
    "      if epoch % 20 == 0:\n",
    "        print(\"Epoch %d loss: %.3f\" % (epoch, loss))\n",
    "    plt.show()\n",
    "\n",
    "# Train our neural network!\n",
    "network = NeuralNetwork()\n",
    "network.train(data, all_y_trues)\n",
    "\n",
    "# Make some predictions\n",
    "y_preds = np.apply_along_axis(network.feedforward, 1, pred_data[:,1:3])\n",
    "for i in range(len(y_preds)):\n",
    "  print(pred_data[i,0], y_preds[i])"
   ]
  }
 ],
 "metadata": {
  "accelerator": "GPU",
  "colab": {
   "collapsed_sections": [],
   "name": "nn_from_scratch_with_np.ipynb",
   "provenance": []
  },
  "kernelspec": {
   "display_name": "Python 3",
   "language": "python",
   "name": "python3"
  },
  "language_info": {
   "codemirror_mode": {
    "name": "ipython",
    "version": 3
   },
   "file_extension": ".py",
   "mimetype": "text/x-python",
   "name": "python",
   "nbconvert_exporter": "python",
   "pygments_lexer": "ipython3",
   "version": "3.7.6"
  }
 },
 "nbformat": 4,
 "nbformat_minor": 1
}
